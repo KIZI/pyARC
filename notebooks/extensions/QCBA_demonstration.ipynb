{
 "cells": [
  {
   "cell_type": "markdown",
   "metadata": {},
   "source": [
    "# pyARC QCBA demonstration\n",
    "\n",
    "This notebook demonstrates the use of QCBA algorithm in pyARC."
   ]
  },
  {
   "cell_type": "markdown",
   "metadata": {},
   "source": [
    "# Import libraries from pyarc"
   ]
  },
  {
   "cell_type": "code",
   "execution_count": 60,
   "metadata": {},
   "outputs": [],
   "source": [
    "from pyarc import CBA\n",
    "from pyarc.data_structures import TransactionDB\n",
    "from pyarc.qcba.data_structures import QuantitativeDataFrame\n",
    "import pandas as pd\n",
    "from pyarc.qcba import QCBA"
   ]
  },
  {
   "cell_type": "code",
   "execution_count": 61,
   "metadata": {},
   "outputs": [],
   "source": [
    "from pyarc.qcba.data_structures import (\n",
    "    IntervalReader,\n",
    "    Interval,\n",
    "    QuantitativeDataFrame,\n",
    "    QuantitativeCAR\n",
    ")"
   ]
  },
  {
   "cell_type": "markdown",
   "metadata": {},
   "source": [
    "## Defining interval reader for reading data\n",
    "\n",
    "first we will look at our current data format and define an appropriate interval reader"
   ]
  },
  {
   "cell_type": "code",
   "execution_count": 62,
   "metadata": {},
   "outputs": [],
   "source": [
    "interval_reader = IntervalReader()\n",
    "\n",
    "interval_reader.closed_bracket = \"\", \"NULL\"\n",
    "interval_reader.open_bracket = \"NULL\", \"\"\n",
    "interval_reader.infinity_symbol = \"inf\", \"inf\"\n",
    "interval_reader.members_separator = \"_to_\"\n",
    "\n",
    "interval_reader.compile_reader()\n",
    "\n",
    "QuantitativeCAR.interval_reader = interval_reader"
   ]
  },
  {
   "cell_type": "markdown",
   "metadata": {},
   "source": [
    "then we will read in our data"
   ]
  },
  {
   "cell_type": "code",
   "execution_count": 63,
   "metadata": {},
   "outputs": [],
   "source": [
    "data_train_discretized = pd.read_csv(\"c:/code/python/machine_learning/assoc_rules/train/iris0.csv\")\n",
    "data_train_undiscretized = pd.read_csv(\"c:/code/python/machine_learning/assoc_rules/folds_undiscr/train/iris0.csv\")\n",
    "data_test = pd.read_csv(\"c:/code/python/machine_learning/assoc_rules/test/iris0.csv\")\n",
    "\n",
    "txns_train = TransactionDB.from_DataFrame(data_train_discretized)\n",
    "txns_test = TransactionDB.from_DataFrame(data_test)"
   ]
  },
  {
   "cell_type": "code",
   "execution_count": 64,
   "metadata": {},
   "outputs": [],
   "source": [
    "quant_dataframe_train_disc = QuantitativeDataFrame(data_train_discretized)\n",
    "quant_dataframe_train_undisc = QuantitativeDataFrame(data_train_undiscretized)"
   ]
  },
  {
   "cell_type": "code",
   "execution_count": 65,
   "metadata": {},
   "outputs": [
    {
     "data": {
      "text/html": [
       "<div>\n",
       "<style scoped>\n",
       "    .dataframe tbody tr th:only-of-type {\n",
       "        vertical-align: middle;\n",
       "    }\n",
       "\n",
       "    .dataframe tbody tr th {\n",
       "        vertical-align: top;\n",
       "    }\n",
       "\n",
       "    .dataframe thead th {\n",
       "        text-align: right;\n",
       "    }\n",
       "</style>\n",
       "<table border=\"1\" class=\"dataframe\">\n",
       "  <thead>\n",
       "    <tr style=\"text-align: right;\">\n",
       "      <th></th>\n",
       "      <th>sepallength</th>\n",
       "      <th>petalwidth</th>\n",
       "      <th>sepalwidth</th>\n",
       "      <th>petallength</th>\n",
       "      <th>class</th>\n",
       "    </tr>\n",
       "  </thead>\n",
       "  <tbody>\n",
       "    <tr>\n",
       "      <th>0</th>\n",
       "      <td>-inf_to_5.55</td>\n",
       "      <td>-inf_to_0.8</td>\n",
       "      <td>3.35_to_inf</td>\n",
       "      <td>-inf_to_2.45</td>\n",
       "      <td>Iris-setosa</td>\n",
       "    </tr>\n",
       "    <tr>\n",
       "      <th>1</th>\n",
       "      <td>-inf_to_5.55</td>\n",
       "      <td>-inf_to_0.8</td>\n",
       "      <td>2.95_to_3.35</td>\n",
       "      <td>-inf_to_2.45</td>\n",
       "      <td>Iris-setosa</td>\n",
       "    </tr>\n",
       "    <tr>\n",
       "      <th>2</th>\n",
       "      <td>-inf_to_5.55</td>\n",
       "      <td>-inf_to_0.8</td>\n",
       "      <td>2.95_to_3.35</td>\n",
       "      <td>-inf_to_2.45</td>\n",
       "      <td>Iris-setosa</td>\n",
       "    </tr>\n",
       "    <tr>\n",
       "      <th>3</th>\n",
       "      <td>-inf_to_5.55</td>\n",
       "      <td>-inf_to_0.8</td>\n",
       "      <td>3.35_to_inf</td>\n",
       "      <td>-inf_to_2.45</td>\n",
       "      <td>Iris-setosa</td>\n",
       "    </tr>\n",
       "    <tr>\n",
       "      <th>4</th>\n",
       "      <td>-inf_to_5.55</td>\n",
       "      <td>-inf_to_0.8</td>\n",
       "      <td>3.35_to_inf</td>\n",
       "      <td>-inf_to_2.45</td>\n",
       "      <td>Iris-setosa</td>\n",
       "    </tr>\n",
       "  </tbody>\n",
       "</table>\n",
       "</div>"
      ],
      "text/plain": [
       "    sepallength   petalwidth    sepalwidth   petallength        class\n",
       "0  -inf_to_5.55  -inf_to_0.8   3.35_to_inf  -inf_to_2.45  Iris-setosa\n",
       "1  -inf_to_5.55  -inf_to_0.8  2.95_to_3.35  -inf_to_2.45  Iris-setosa\n",
       "2  -inf_to_5.55  -inf_to_0.8  2.95_to_3.35  -inf_to_2.45  Iris-setosa\n",
       "3  -inf_to_5.55  -inf_to_0.8   3.35_to_inf  -inf_to_2.45  Iris-setosa\n",
       "4  -inf_to_5.55  -inf_to_0.8   3.35_to_inf  -inf_to_2.45  Iris-setosa"
      ]
     },
     "execution_count": 65,
     "metadata": {},
     "output_type": "execute_result"
    }
   ],
   "source": [
    "data_train_discretized.head()"
   ]
  },
  {
   "cell_type": "code",
   "execution_count": 66,
   "metadata": {},
   "outputs": [
    {
     "data": {
      "text/plain": [
       "0.9407407407407408"
      ]
     },
     "execution_count": 66,
     "metadata": {},
     "output_type": "execute_result"
    }
   ],
   "source": [
    "cba = CBA()\n",
    "cba.fit(txns_train)\n",
    "cba.rule_model_accuracy(txns_train)"
   ]
  },
  {
   "cell_type": "markdown",
   "metadata": {},
   "source": [
    "# Run QCBA optimization"
   ]
  },
  {
   "cell_type": "code",
   "execution_count": 67,
   "metadata": {},
   "outputs": [
    {
     "name": "stdout",
     "output_type": "stream",
     "text": [
      "applying selected transformations\n",
      "refitting\n",
      "literal pruning\n",
      "trimming\n",
      "extending\n",
      "[                                                  ]\n",
      "[############                                      ]\n",
      "[#########################                         ]\n",
      "[#####################################             ]\n",
      "post pruning\n",
      "overlap pruning\n"
     ]
    },
    {
     "data": {
      "text/plain": [
       "<pyarc.qcba.classifier.QuantitativeClassifier at 0x20479fedc88>"
      ]
     },
     "execution_count": 67,
     "metadata": {},
     "output_type": "execute_result"
    }
   ],
   "source": [
    "qcba_cba = QCBA(quant_dataframe_train_undisc, cba_rule_model=cba)\n",
    "qcba_cba.fit()"
   ]
  },
  {
   "cell_type": "markdown",
   "metadata": {},
   "source": [
    "# Evaluate QCBA model"
   ]
  },
  {
   "cell_type": "code",
   "execution_count": 68,
   "metadata": {},
   "outputs": [
    {
     "name": "stdout",
     "output_type": "stream",
     "text": [
      "CBA accuracy: 0.9407407407407408\n",
      "QCBA accuracy: 0.9629629629629629\n"
     ]
    }
   ],
   "source": [
    "print(\"CBA accuracy:\", cba.rule_model_accuracy(txns_train))\n",
    "print(\"QCBA accuracy:\", qcba.score(quant_dataframe_train_undisc))"
   ]
  }
 ],
 "metadata": {
  "kernelspec": {
   "display_name": "Python 3",
   "language": "python",
   "name": "python3"
  },
  "language_info": {
   "codemirror_mode": {
    "name": "ipython",
    "version": 3
   },
   "file_extension": ".py",
   "mimetype": "text/x-python",
   "name": "python",
   "nbconvert_exporter": "python",
   "pygments_lexer": "ipython3",
   "version": "3.7.3"
  }
 },
 "nbformat": 4,
 "nbformat_minor": 2
}
