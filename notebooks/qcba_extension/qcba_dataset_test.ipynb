{
 "cells": [
  {
   "cell_type": "code",
   "execution_count": 1,
   "metadata": {
    "collapsed": true
   },
   "outputs": [],
   "source": [
    "%run ../../main.py"
   ]
  },
  {
   "cell_type": "code",
   "execution_count": 2,
   "metadata": {
    "collapsed": true
   },
   "outputs": [],
   "source": [
    "import pandas as pd\n",
    "import pyarc"
   ]
  },
  {
   "cell_type": "code",
   "execution_count": 3,
   "metadata": {
    "collapsed": true
   },
   "outputs": [],
   "source": [
    "segment_undiscr = pd.read_csv(\"C:/code/tmp/segment.csv\")\n",
    "\n",
    "\n",
    "segment_undiscr_0 = segment_undiscr.head(210)"
   ]
  },
  {
   "cell_type": "code",
   "execution_count": null,
   "metadata": {
    "collapsed": true
   },
   "outputs": [],
   "source": [
    "from pyarc import CBA, TransactionDB\n",
    "import pandas as pd\n",
    "\n",
    "data_train = pd.read_csv(\"c:/code/python/machine_learning/assoc_rules/train/segment0.csv\")\n",
    "data_test = pd.read_csv(\"c:/code/python/machine_learning/assoc_rules/test/segment0.csv\")\n",
    "\n",
    "txns_train = TransactionDB.from_DataFrame(data_train)\n",
    "txns_test = TransactionDB.from_DataFrame(data_test)\n",
    "\n",
    "\n",
    "cba = CBA(support=0.1, confidence=0.7, algorithm=\"m1\")\n",
    "cba.fit(txns_train)\n",
    "\n",
    "rules_to_optimize = cba.clf.rules"
   ]
  },
  {
   "cell_type": "code",
   "execution_count": 6,
   "metadata": {
    "collapsed": true
   },
   "outputs": [],
   "source": [
    "from pyarc.qcba.data_structures import (\n",
    "    IntervalReader,\n",
    "    Interval,\n",
    "    QuantitativeDataFrame,\n",
    "    QuantitativeCAR\n",
    ")\n",
    "\n",
    "interval_reader = IntervalReader()\n",
    "\n",
    "interval_reader.closed_bracket = \"\", \"NULL\"\n",
    "interval_reader.open_bracket = \"NULL\", \"\"\n",
    "interval_reader.infinity_symbol = \"inf\", \"inf\"\n",
    "interval_reader.members_separator = \"_to_\"\n",
    "\n",
    "interval_reader.compile_reader()\n",
    "\n",
    "i = interval_reader.read(\"82.9815_to_inf\")"
   ]
  },
  {
   "cell_type": "code",
   "execution_count": 8,
   "metadata": {
    "collapsed": true
   },
   "outputs": [],
   "source": [
    "QuantitativeCAR.interval_reader = interval_reader"
   ]
  },
  {
   "cell_type": "code",
   "execution_count": 13,
   "metadata": {
    "collapsed": true
   },
   "outputs": [],
   "source": [
    "quant_rules = [ QuantitativeCAR(r) for r in rules_to_optimize ]\n",
    "quantitative_dataset = QuantitativeDataFrame(segment_undiscr_0)"
   ]
  },
  {
   "cell_type": "code",
   "execution_count": 16,
   "metadata": {
    "collapsed": true
   },
   "outputs": [],
   "source": [
    "from pyarc.qcba.transformation import QCBATransformation\n",
    "\n",
    "\n",
    "qcba_transformation = QCBATransformation(quantitative_dataset)\n",
    "transformed_rules = qcba_transformation.transform(quant_rules)"
   ]
  },
  {
   "cell_type": "code",
   "execution_count": 26,
   "metadata": {},
   "outputs": [
    {
     "data": {
      "text/plain": [
       "0.51428571428571423"
      ]
     },
     "execution_count": 26,
     "metadata": {},
     "output_type": "execute_result"
    }
   ],
   "source": [
    "from pyarc.qcba.classifier import QuantitativeClassifier\n",
    "from sklearn.metrics import accuracy_score\n",
    "\n",
    "qclf = QuantitativeClassifier(transformed_rules[0], transformed_rules[1])\n",
    "pred = qclf.test(quantitative_dataset)\n",
    "\n",
    "\n",
    "actual = quantitative_dataset.dataframe[\"class\"].values\n",
    "\n",
    "accuracy_score(actual, pred)"
   ]
  }
 ],
 "metadata": {
  "kernelspec": {
   "display_name": "Python 3",
   "language": "python",
   "name": "python3"
  },
  "language_info": {
   "codemirror_mode": {
    "name": "ipython",
    "version": 3
   },
   "file_extension": ".py",
   "mimetype": "text/x-python",
   "name": "python",
   "nbconvert_exporter": "python",
   "pygments_lexer": "ipython3",
   "version": "3.6.1"
  }
 },
 "nbformat": 4,
 "nbformat_minor": 2
}
