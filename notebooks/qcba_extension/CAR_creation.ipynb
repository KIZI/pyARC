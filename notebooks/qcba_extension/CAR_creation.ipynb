{
 "cells": [
  {
   "cell_type": "code",
   "execution_count": 1,
   "metadata": {
    "collapsed": true
   },
   "outputs": [],
   "source": [
    "%run ../../main.py"
   ]
  },
  {
   "cell_type": "code",
   "execution_count": 2,
   "metadata": {},
   "outputs": [],
   "source": [
    "%matplotlib inline\n",
    "\n",
    "import pandas as pd\n",
    "import pyarc\n",
    "import pyarc.utils.plotting as utils\n",
    "\n",
    "from pyarc import TransactionDB\n",
    "from pyarc.algorithms import generateCARs\n",
    "from pyarc.qcba.data_structures import *"
   ]
  },
  {
   "cell_type": "code",
   "execution_count": null,
   "metadata": {
    "collapsed": true
   },
   "outputs": [],
   "source": [
    "movies_train_undiscr = pd.read_csv(\"../data/movies.csv\", sep=\";\", index_col=0)\n",
    "movies_train_discr = pd.read_csv(\"../data/movies_discr.csv\", sep=\";\", index_col=0)\n",
    "\n",
    "movies_undiscr_txns = movies_train_undiscr.reset_index()\n",
    "movies_discr_txns = TransactionDB.from_DataFrame(movies_train_discr)"
   ]
  },
  {
   "cell_type": "code",
   "execution_count": null,
   "metadata": {
    "collapsed": true
   },
   "outputs": [],
   "source": [
    "rm = CBA(algorithm=\"m1\", confidence=0.2, support=0.02).fit(movies_discr_txns)\n",
    "\n",
    "rules = rm.clf.rules\n",
    "\n",
    "ds = movies_train_undiscr.reset_index()\n",
    "quant_dataset = QuantitativeDataFrame(ds)\n",
    "Y = ds[\"class\"]\n",
    "quant_dataset.dataframe.head()"
   ]
  }
 ],
 "metadata": {
  "kernelspec": {
   "display_name": "Python 3",
   "language": "python",
   "name": "python3"
  },
  "language_info": {
   "codemirror_mode": {
    "name": "ipython",
    "version": 3
   },
   "file_extension": ".py",
   "mimetype": "text/x-python",
   "name": "python",
   "nbconvert_exporter": "python",
   "pygments_lexer": "ipython3",
   "version": "3.6.1"
  }
 },
 "nbformat": 4,
 "nbformat_minor": 2
}
