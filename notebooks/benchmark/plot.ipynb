{
 "cells": [
  {
   "cell_type": "code",
   "execution_count": 9,
   "metadata": {
    "collapsed": true
   },
   "outputs": [],
   "source": [
    "import matplotlib.pyplot as plt\n",
    "import pandas as pd\n",
    "\n",
    "%matplotlib inline"
   ]
  },
  {
   "cell_type": "code",
   "execution_count": 17,
   "metadata": {},
   "outputs": [],
   "source": [
    "df = pd.read_csv(\"C:/code/python/cba/notebooks/data/data_sensitivity.csv\")\n",
    "\n",
    "df2 = df.iloc[:4, :]"
   ]
  },
  {
   "cell_type": "code",
   "execution_count": 21,
   "metadata": {},
   "outputs": [
    {
     "data": {
      "image/png": "[encoded data removed]",
      "text/plain": [
       "<matplotlib.figure.Figure at 0x1d064fe3da0>"
      ]
     },
     "metadata": {},
     "output_type": "display_data"
    }
   ],
   "source": [
    "df2.plot(x=[\"data_count\"], y=[\"M1_duration\", \"M2_duration\"], fontsize=14)\n",
    "\n",
    "plt.savefig(\"../data/m1_m2_data.png\")"
   ]
  },
  {
   "cell_type": "code",
   "execution_count": 22,
   "metadata": {
    "collapsed": true
   },
   "outputs": [],
   "source": [
    "benchmark_df = pd.read_csv(\"../data/data_sensitivity.csv\")"
   ]
  },
  {
   "cell_type": "code",
   "execution_count": 27,
   "metadata": {},
   "outputs": [],
   "source": [
    "benchmark_df.columns = [\"input rows\", 'M1_duration', 'M2_duration', 'data_count']"
   ]
  },
  {
   "cell_type": "code",
   "execution_count": 28,
   "metadata": {
    "collapsed": true
   },
   "outputs": [],
   "source": [
    "R_benchmark = pd.read_csv(\"../data/arc-data-size.csv\")\n",
    "\n",
    "R_benchmark[[\"input rows\"]] = R_benchmark[[\"input rows\"]].astype(str)\n",
    "R_benchmark.set_index(\"input rows\", inplace=True)"
   ]
  },
  {
   "cell_type": "code",
   "execution_count": 29,
   "metadata": {},
   "outputs": [],
   "source": [
    "benchmark_df[[\"input rows\"]] = benchmark_df[[\"input rows\"]].astype(str)\n",
    "benchmark_df = benchmark_df.set_index(\"input rows\")\n"
   ]
  },
  {
   "cell_type": "code",
   "execution_count": 30,
   "metadata": {},
   "outputs": [
    {
     "data": {
      "text/html": [
       "<div>\n",
       "<style>\n",
       "    .dataframe thead tr:only-child th {\n",
       "        text-align: right;\n",
       "    }\n",
       "\n",
       "    .dataframe thead th {\n",
       "        text-align: left;\n",
       "    }\n",
       "\n",
       "    .dataframe tbody tr th {\n",
       "        vertical-align: top;\n",
       "    }\n",
       "</style>\n",
       "<table border=\"1\" class=\"dataframe\">\n",
       "  <thead>\n",
       "    <tr style=\"text-align: right;\">\n",
       "      <th></th>\n",
       "      <th>M1_duration</th>\n",
       "      <th>M2_duration</th>\n",
       "      <th>data_count</th>\n",
       "      <th>dataset</th>\n",
       "      <th>input rules</th>\n",
       "      <th>output_rules_arc</th>\n",
       "      <th>output_rules_acba</th>\n",
       "      <th>output_rules_rcba</th>\n",
       "      <th>time_arc</th>\n",
       "      <th>time_acba</th>\n",
       "      <th>time_rcba</th>\n",
       "    </tr>\n",
       "    <tr>\n",
       "      <th>input rows</th>\n",
       "      <th></th>\n",
       "      <th></th>\n",
       "      <th></th>\n",
       "      <th></th>\n",
       "      <th></th>\n",
       "      <th></th>\n",
       "      <th></th>\n",
       "      <th></th>\n",
       "      <th></th>\n",
       "      <th></th>\n",
       "      <th></th>\n",
       "    </tr>\n",
       "  </thead>\n",
       "  <tbody>\n",
       "    <tr>\n",
       "      <th>0</th>\n",
       "      <td>0.095520</td>\n",
       "      <td>0.424153</td>\n",
       "      <td>260</td>\n",
       "      <td>NaN</td>\n",
       "      <td>NaN</td>\n",
       "      <td>NaN</td>\n",
       "      <td>NaN</td>\n",
       "      <td>NaN</td>\n",
       "      <td>NaN</td>\n",
       "      <td>NaN</td>\n",
       "      <td>NaN</td>\n",
       "    </tr>\n",
       "    <tr>\n",
       "      <th>1</th>\n",
       "      <td>0.128046</td>\n",
       "      <td>0.898462</td>\n",
       "      <td>520</td>\n",
       "      <td>NaN</td>\n",
       "      <td>NaN</td>\n",
       "      <td>NaN</td>\n",
       "      <td>NaN</td>\n",
       "      <td>NaN</td>\n",
       "      <td>NaN</td>\n",
       "      <td>NaN</td>\n",
       "      <td>NaN</td>\n",
       "    </tr>\n",
       "    <tr>\n",
       "      <th>2</th>\n",
       "      <td>0.147605</td>\n",
       "      <td>1.743905</td>\n",
       "      <td>1040</td>\n",
       "      <td>NaN</td>\n",
       "      <td>NaN</td>\n",
       "      <td>NaN</td>\n",
       "      <td>NaN</td>\n",
       "      <td>NaN</td>\n",
       "      <td>NaN</td>\n",
       "      <td>NaN</td>\n",
       "      <td>NaN</td>\n",
       "    </tr>\n",
       "    <tr>\n",
       "      <th>3</th>\n",
       "      <td>0.225937</td>\n",
       "      <td>4.573528</td>\n",
       "      <td>2080</td>\n",
       "      <td>NaN</td>\n",
       "      <td>NaN</td>\n",
       "      <td>NaN</td>\n",
       "      <td>NaN</td>\n",
       "      <td>NaN</td>\n",
       "      <td>NaN</td>\n",
       "      <td>NaN</td>\n",
       "      <td>NaN</td>\n",
       "    </tr>\n",
       "    <tr>\n",
       "      <th>4</th>\n",
       "      <td>0.336760</td>\n",
       "      <td>NaN</td>\n",
       "      <td>4160</td>\n",
       "      <td>NaN</td>\n",
       "      <td>NaN</td>\n",
       "      <td>NaN</td>\n",
       "      <td>NaN</td>\n",
       "      <td>NaN</td>\n",
       "      <td>NaN</td>\n",
       "      <td>NaN</td>\n",
       "      <td>NaN</td>\n",
       "    </tr>\n",
       "    <tr>\n",
       "      <th>5</th>\n",
       "      <td>0.580915</td>\n",
       "      <td>NaN</td>\n",
       "      <td>8320</td>\n",
       "      <td>NaN</td>\n",
       "      <td>NaN</td>\n",
       "      <td>NaN</td>\n",
       "      <td>NaN</td>\n",
       "      <td>NaN</td>\n",
       "      <td>NaN</td>\n",
       "      <td>NaN</td>\n",
       "      <td>NaN</td>\n",
       "    </tr>\n",
       "    <tr>\n",
       "      <th>6</th>\n",
       "      <td>1.095596</td>\n",
       "      <td>NaN</td>\n",
       "      <td>16640</td>\n",
       "      <td>NaN</td>\n",
       "      <td>NaN</td>\n",
       "      <td>NaN</td>\n",
       "      <td>NaN</td>\n",
       "      <td>NaN</td>\n",
       "      <td>NaN</td>\n",
       "      <td>NaN</td>\n",
       "      <td>NaN</td>\n",
       "    </tr>\n",
       "    <tr>\n",
       "      <th>7</th>\n",
       "      <td>1.994696</td>\n",
       "      <td>NaN</td>\n",
       "      <td>33280</td>\n",
       "      <td>NaN</td>\n",
       "      <td>NaN</td>\n",
       "      <td>NaN</td>\n",
       "      <td>NaN</td>\n",
       "      <td>NaN</td>\n",
       "      <td>NaN</td>\n",
       "      <td>NaN</td>\n",
       "      <td>NaN</td>\n",
       "    </tr>\n",
       "    <tr>\n",
       "      <th>8</th>\n",
       "      <td>4.100420</td>\n",
       "      <td>NaN</td>\n",
       "      <td>66560</td>\n",
       "      <td>NaN</td>\n",
       "      <td>NaN</td>\n",
       "      <td>NaN</td>\n",
       "      <td>NaN</td>\n",
       "      <td>NaN</td>\n",
       "      <td>NaN</td>\n",
       "      <td>NaN</td>\n",
       "      <td>NaN</td>\n",
       "    </tr>\n",
       "    <tr>\n",
       "      <th>9</th>\n",
       "      <td>7.912010</td>\n",
       "      <td>NaN</td>\n",
       "      <td>133120</td>\n",
       "      <td>NaN</td>\n",
       "      <td>NaN</td>\n",
       "      <td>NaN</td>\n",
       "      <td>NaN</td>\n",
       "      <td>NaN</td>\n",
       "      <td>NaN</td>\n",
       "      <td>NaN</td>\n",
       "      <td>NaN</td>\n",
       "    </tr>\n",
       "  </tbody>\n",
       "</table>\n",
       "</div>"
      ],
      "text/plain": [
       "            M1_duration  M2_duration  data_count dataset  input rules  \\\n",
       "input rows                                                              \n",
       "0              0.095520     0.424153         260     NaN          NaN   \n",
       "1              0.128046     0.898462         520     NaN          NaN   \n",
       "2              0.147605     1.743905        1040     NaN          NaN   \n",
       "3              0.225937     4.573528        2080     NaN          NaN   \n",
       "4              0.336760          NaN        4160     NaN          NaN   \n",
       "5              0.580915          NaN        8320     NaN          NaN   \n",
       "6              1.095596          NaN       16640     NaN          NaN   \n",
       "7              1.994696          NaN       33280     NaN          NaN   \n",
       "8              4.100420          NaN       66560     NaN          NaN   \n",
       "9              7.912010          NaN      133120     NaN          NaN   \n",
       "\n",
       "            output_rules_arc  output_rules_acba  output_rules_rcba  time_arc  \\\n",
       "input rows                                                                     \n",
       "0                        NaN                NaN                NaN       NaN   \n",
       "1                        NaN                NaN                NaN       NaN   \n",
       "2                        NaN                NaN                NaN       NaN   \n",
       "3                        NaN                NaN                NaN       NaN   \n",
       "4                        NaN                NaN                NaN       NaN   \n",
       "5                        NaN                NaN                NaN       NaN   \n",
       "6                        NaN                NaN                NaN       NaN   \n",
       "7                        NaN                NaN                NaN       NaN   \n",
       "8                        NaN                NaN                NaN       NaN   \n",
       "9                        NaN                NaN                NaN       NaN   \n",
       "\n",
       "            time_acba  time_rcba  \n",
       "input rows                        \n",
       "0                 NaN        NaN  \n",
       "1                 NaN        NaN  \n",
       "2                 NaN        NaN  \n",
       "3                 NaN        NaN  \n",
       "4                 NaN        NaN  \n",
       "5                 NaN        NaN  \n",
       "6                 NaN        NaN  \n",
       "7                 NaN        NaN  \n",
       "8                 NaN        NaN  \n",
       "9                 NaN        NaN  "
      ]
     },
     "execution_count": 30,
     "metadata": {},
     "output_type": "execute_result"
    }
   ],
   "source": [
    "benchmark_all = benchmark_df.join(R_benchmark, lsuffix=\"_py\", rsuffix=\"_R\")\n",
    "benchmark_all"
   ]
  },
  {
   "cell_type": "code",
   "execution_count": 32,
   "metadata": {},
   "outputs": [
    {
     "data": {
      "image/png": "[encoded data removed]",
      "text/plain": [
       "<matplotlib.figure.Figure at 0x1d064d93908>"
      ]
     },
     "metadata": {},
     "output_type": "display_data"
    }
   ],
   "source": [
    "import matplotlib.pyplot as plt\n",
    "\n",
    "labels = [\"pyARC - m1\", \"pyARC - m2\", \"arc\", \"rCBA\", \"arulesCBA\"]\n",
    "\n",
    "ax = benchmark_all.plot(y=[\"M1_duration\", \"M2_duration\", \"time_arc\", \"time_acba\", \"time_rcba\"])\n",
    "ax.legend(labels)\n",
    "\n",
    "plt.savefig(\"../data/data_size_sensitivity_plot.png\")"
   ]
  }
 ],
 "metadata": {
  "kernelspec": {
   "display_name": "Python 3",
   "language": "python",
   "name": "python3"
  },
  "language_info": {
   "codemirror_mode": {
    "name": "ipython",
    "version": 3
   },
   "file_extension": ".py",
   "mimetype": "text/x-python",
   "name": "python",
   "nbconvert_exporter": "python",
   "pygments_lexer": "ipython3",
   "version": "3.6.1"
  }
 },
 "nbformat": 4,
 "nbformat_minor": 2
}
