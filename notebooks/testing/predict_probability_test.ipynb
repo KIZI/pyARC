{
 "cells": [
  {
   "cell_type": "code",
   "execution_count": 1,
   "metadata": {},
   "outputs": [],
   "source": [
    "from pyarc import CBA,TransactionDB\n",
    "from pyarc.data_structures import ClassAssocationRule, Antecedent, Consequent\n",
    "\n",
    "import pandas as pd"
   ]
  },
  {
   "cell_type": "code",
   "execution_count": 2,
   "metadata": {},
   "outputs": [],
   "source": [
    "txns = TransactionDB.from_DataFrame(pd.read_csv(\"../../iris.csv\"), target=\"sepallength\")"
   ]
  },
  {
   "cell_type": "code",
   "execution_count": 3,
   "metadata": {},
   "outputs": [
    {
     "data": {
      "text/plain": [
       "<pyarc.cba.CBA at 0x2a7d8d81240>"
      ]
     },
     "execution_count": 3,
     "metadata": {},
     "output_type": "execute_result"
    }
   ],
   "source": [
    "cba = CBA()\n",
    "cba.fit(txns)"
   ]
  },
  {
   "cell_type": "code",
   "execution_count": 4,
   "metadata": {},
   "outputs": [
    {
     "data": {
      "text/plain": [
       "[CAR {petalwidth=-inf_to_0.8,sepalwidth=2.95_to_3.35} => {sepallength=-inf_to_5.55} sup: 0.13 conf: 1.00 len: 3, id: 31,\n",
       " CAR {petalwidth=-inf_to_0.8} => {sepallength=-inf_to_5.55} sup: 0.31 conf: 0.93 len: 2, id: 32,\n",
       " CAR {class=Iris-virginica,sepalwidth=2.95_to_3.35} => {sepallength=6.25_to_inf} sup: 0.14 conf: 0.90 len: 3, id: 41,\n",
       " CAR {sepalwidth=2.95_to_3.35,petallength=4.75_to_inf} => {sepallength=6.25_to_inf} sup: 0.15 conf: 0.87 len: 3, id: 43,\n",
       " CAR {class=Iris-virginica,petalwidth=1.75_to_inf} => {sepallength=6.25_to_inf} sup: 0.24 conf: 0.80 len: 3, id: 20,\n",
       " CAR {petallength=4.75_to_inf} => {sepallength=6.25_to_inf} sup: 0.27 conf: 0.76 len: 2, id: 44,\n",
       " CAR {sepalwidth=2.95_to_3.35} => {sepallength=6.25_to_inf} sup: 0.19 conf: 0.51 len: 2, id: 45]"
      ]
     },
     "execution_count": 4,
     "metadata": {},
     "output_type": "execute_result"
    }
   ],
   "source": [
    "cba.clf.rules"
   ]
  },
  {
   "cell_type": "code",
   "execution_count": 5,
   "metadata": {},
   "outputs": [
    {
     "data": {
      "text/plain": [
       "'sepallength'"
      ]
     },
     "execution_count": 5,
     "metadata": {},
     "output_type": "execute_result"
    }
   ],
   "source": [
    "cba.target_class"
   ]
  },
  {
   "cell_type": "code",
   "execution_count": 6,
   "metadata": {},
   "outputs": [
    {
     "data": {
      "text/plain": [
       "[0.9333333333333333,\n",
       " 1.0,\n",
       " 1.0,\n",
       " 0.9333333333333333,\n",
       " 0.9333333333333333,\n",
       " 0.9333333333333333,\n",
       " 0.9333333333333333,\n",
       " 0.9333333333333333,\n",
       " 1.0,\n",
       " 1.0,\n",
       " 1.0,\n",
       " 0.9333333333333333,\n",
       " 0.9333333333333333,\n",
       " 0.9333333333333333,\n",
       " 0.9333333333333333,\n",
       " 0.9333333333333333,\n",
       " 0.9333333333333333,\n",
       " 0.9333333333333333,\n",
       " 0.9333333333333333,\n",
       " 0.9333333333333333,\n",
       " 1.0,\n",
       " 0.9333333333333333,\n",
       " 1.0,\n",
       " 0.9333333333333333,\n",
       " 0.9333333333333333,\n",
       " 1.0,\n",
       " 1.0,\n",
       " 0.9333333333333333,\n",
       " 0.9333333333333333,\n",
       " 0.9333333333333333,\n",
       " 1.0,\n",
       " 1.0,\n",
       " 0.9333333333333333,\n",
       " 1.0,\n",
       " 1.0,\n",
       " 0.9333333333333333,\n",
       " 0.9333333333333333,\n",
       " 1.0,\n",
       " 0.9333333333333333,\n",
       " 0.9333333333333333,\n",
       " 1.0,\n",
       " 0.9333333333333333,\n",
       " 1.0,\n",
       " 0.9333333333333333,\n",
       " 1.0,\n",
       " 0.5098039215686274,\n",
       " 0.5098039215686274,\n",
       " 0.3925925925925926,\n",
       " 0.3925925925925926,\n",
       " 0.3925925925925926,\n",
       " 0.5098039215686274,\n",
       " 0.3925925925925926,\n",
       " 0.3925925925925926,\n",
       " 0.3925925925925926,\n",
       " 0.3925925925925926,\n",
       " 0.5098039215686274,\n",
       " 0.3925925925925926,\n",
       " 0.3925925925925926,\n",
       " 0.5098039215686274,\n",
       " 0.3925925925925926,\n",
       " 0.3925925925925926,\n",
       " 0.3925925925925926,\n",
       " 0.8695652173913043,\n",
       " 0.3925925925925926,\n",
       " 0.7551020408163265,\n",
       " 0.3925925925925926,\n",
       " 0.5098039215686274,\n",
       " 0.7551020408163265,\n",
       " 0.8695652173913043,\n",
       " 0.3925925925925926,\n",
       " 0.3925925925925926,\n",
       " 0.3925925925925926,\n",
       " 0.3925925925925926,\n",
       " 0.7551020408163265,\n",
       " 0.5098039215686274,\n",
       " 0.3925925925925926,\n",
       " 0.5098039215686274,\n",
       " 0.3925925925925926,\n",
       " 0.5098039215686274,\n",
       " 0.3925925925925926,\n",
       " 0.3925925925925926,\n",
       " 0.5098039215686274,\n",
       " 0.3925925925925926,\n",
       " 0.3925925925925926,\n",
       " 0.3925925925925926,\n",
       " 0.5098039215686274,\n",
       " 0.3925925925925926,\n",
       " 0.3925925925925926,\n",
       " 0.3925925925925926,\n",
       " 0.3925925925925926,\n",
       " 0.9047619047619048,\n",
       " 0.8,\n",
       " 0.9047619047619048,\n",
       " 0.8,\n",
       " 0.9047619047619048,\n",
       " 0.9047619047619048,\n",
       " 0.3925925925925926,\n",
       " 0.8,\n",
       " 0.8,\n",
       " 0.9047619047619048,\n",
       " 0.8,\n",
       " 0.8,\n",
       " 0.8,\n",
       " 0.9047619047619048,\n",
       " 0.9047619047619048,\n",
       " 0.8,\n",
       " 0.8,\n",
       " 0.7551020408163265,\n",
       " 0.9047619047619048,\n",
       " 0.8,\n",
       " 0.8,\n",
       " 0.8,\n",
       " 0.9047619047619048,\n",
       " 0.8,\n",
       " 0.8,\n",
       " 0.9047619047619048,\n",
       " 0.8,\n",
       " 0.8,\n",
       " 0.8,\n",
       " 0.7551020408163265,\n",
       " 0.7551020408163265,\n",
       " 0.9047619047619048,\n",
       " 0.8,\n",
       " 0.9047619047619048,\n",
       " 0.9047619047619048,\n",
       " 0.9047619047619048,\n",
       " 0.9047619047619048,\n",
       " 0.9047619047619048,\n",
       " 0.8,\n",
       " 0.9047619047619048,\n",
       " 0.9047619047619048,\n",
       " 0.9047619047619048,\n",
       " 0.8,\n",
       " 0.9047619047619048,\n",
       " 0.9047619047619048]"
      ]
     },
     "execution_count": 6,
     "metadata": {},
     "output_type": "execute_result"
    }
   ],
   "source": [
    "cba.predict_probability(txns)"
   ]
  },
  {
   "cell_type": "code",
   "execution_count": 7,
   "metadata": {},
   "outputs": [
    {
     "data": {
      "text/plain": [
       "CAR {} => {class=default_class1} sup: 0.10 conf: 0.20 len: 1, id: 46"
      ]
     },
     "execution_count": 7,
     "metadata": {},
     "output_type": "execute_result"
    }
   ],
   "source": [
    "ClassAssocationRule(Antecedent({}), Consequent(\"class\", \"default_class1\"), 0.1, 0.2)"
   ]
  },
  {
   "cell_type": "code",
   "execution_count": 8,
   "metadata": {},
   "outputs": [
    {
     "data": {
      "text/plain": [
       "[CAR {petalwidth=-inf_to_0.8} => {sepallength=-inf_to_5.55} sup: 0.31 conf: 0.93 len: 2, id: 32,\n",
       " CAR {petalwidth=-inf_to_0.8,sepalwidth=2.95_to_3.35} => {sepallength=-inf_to_5.55} sup: 0.13 conf: 1.00 len: 3, id: 31,\n",
       " CAR {petalwidth=-inf_to_0.8,sepalwidth=2.95_to_3.35} => {sepallength=-inf_to_5.55} sup: 0.13 conf: 1.00 len: 3, id: 31,\n",
       " CAR {petalwidth=-inf_to_0.8} => {sepallength=-inf_to_5.55} sup: 0.31 conf: 0.93 len: 2, id: 32,\n",
       " CAR {petalwidth=-inf_to_0.8} => {sepallength=-inf_to_5.55} sup: 0.31 conf: 0.93 len: 2, id: 32,\n",
       " CAR {petalwidth=-inf_to_0.8} => {sepallength=-inf_to_5.55} sup: 0.31 conf: 0.93 len: 2, id: 32,\n",
       " CAR {petalwidth=-inf_to_0.8} => {sepallength=-inf_to_5.55} sup: 0.31 conf: 0.93 len: 2, id: 32,\n",
       " CAR {petalwidth=-inf_to_0.8} => {sepallength=-inf_to_5.55} sup: 0.31 conf: 0.93 len: 2, id: 32,\n",
       " CAR {petalwidth=-inf_to_0.8,sepalwidth=2.95_to_3.35} => {sepallength=-inf_to_5.55} sup: 0.13 conf: 1.00 len: 3, id: 31,\n",
       " CAR {petalwidth=-inf_to_0.8,sepalwidth=2.95_to_3.35} => {sepallength=-inf_to_5.55} sup: 0.13 conf: 1.00 len: 3, id: 31,\n",
       " CAR {petalwidth=-inf_to_0.8,sepalwidth=2.95_to_3.35} => {sepallength=-inf_to_5.55} sup: 0.13 conf: 1.00 len: 3, id: 31,\n",
       " CAR {petalwidth=-inf_to_0.8} => {sepallength=-inf_to_5.55} sup: 0.31 conf: 0.93 len: 2, id: 32,\n",
       " CAR {petalwidth=-inf_to_0.8} => {sepallength=-inf_to_5.55} sup: 0.31 conf: 0.93 len: 2, id: 32,\n",
       " CAR {petalwidth=-inf_to_0.8} => {sepallength=-inf_to_5.55} sup: 0.31 conf: 0.93 len: 2, id: 32,\n",
       " CAR {petalwidth=-inf_to_0.8} => {sepallength=-inf_to_5.55} sup: 0.31 conf: 0.93 len: 2, id: 32,\n",
       " CAR {petalwidth=-inf_to_0.8} => {sepallength=-inf_to_5.55} sup: 0.31 conf: 0.93 len: 2, id: 32,\n",
       " CAR {petalwidth=-inf_to_0.8} => {sepallength=-inf_to_5.55} sup: 0.31 conf: 0.93 len: 2, id: 32,\n",
       " CAR {petalwidth=-inf_to_0.8} => {sepallength=-inf_to_5.55} sup: 0.31 conf: 0.93 len: 2, id: 32,\n",
       " CAR {petalwidth=-inf_to_0.8} => {sepallength=-inf_to_5.55} sup: 0.31 conf: 0.93 len: 2, id: 32,\n",
       " CAR {petalwidth=-inf_to_0.8} => {sepallength=-inf_to_5.55} sup: 0.31 conf: 0.93 len: 2, id: 32,\n",
       " CAR {petalwidth=-inf_to_0.8,sepalwidth=2.95_to_3.35} => {sepallength=-inf_to_5.55} sup: 0.13 conf: 1.00 len: 3, id: 31,\n",
       " CAR {petalwidth=-inf_to_0.8} => {sepallength=-inf_to_5.55} sup: 0.31 conf: 0.93 len: 2, id: 32,\n",
       " CAR {petalwidth=-inf_to_0.8,sepalwidth=2.95_to_3.35} => {sepallength=-inf_to_5.55} sup: 0.13 conf: 1.00 len: 3, id: 31,\n",
       " CAR {petalwidth=-inf_to_0.8} => {sepallength=-inf_to_5.55} sup: 0.31 conf: 0.93 len: 2, id: 32,\n",
       " CAR {petalwidth=-inf_to_0.8} => {sepallength=-inf_to_5.55} sup: 0.31 conf: 0.93 len: 2, id: 32,\n",
       " CAR {petalwidth=-inf_to_0.8,sepalwidth=2.95_to_3.35} => {sepallength=-inf_to_5.55} sup: 0.13 conf: 1.00 len: 3, id: 31,\n",
       " CAR {petalwidth=-inf_to_0.8,sepalwidth=2.95_to_3.35} => {sepallength=-inf_to_5.55} sup: 0.13 conf: 1.00 len: 3, id: 31,\n",
       " CAR {petalwidth=-inf_to_0.8} => {sepallength=-inf_to_5.55} sup: 0.31 conf: 0.93 len: 2, id: 32,\n",
       " CAR {petalwidth=-inf_to_0.8} => {sepallength=-inf_to_5.55} sup: 0.31 conf: 0.93 len: 2, id: 32,\n",
       " CAR {petalwidth=-inf_to_0.8} => {sepallength=-inf_to_5.55} sup: 0.31 conf: 0.93 len: 2, id: 32,\n",
       " CAR {petalwidth=-inf_to_0.8,sepalwidth=2.95_to_3.35} => {sepallength=-inf_to_5.55} sup: 0.13 conf: 1.00 len: 3, id: 31,\n",
       " CAR {petalwidth=-inf_to_0.8,sepalwidth=2.95_to_3.35} => {sepallength=-inf_to_5.55} sup: 0.13 conf: 1.00 len: 3, id: 31,\n",
       " CAR {petalwidth=-inf_to_0.8} => {sepallength=-inf_to_5.55} sup: 0.31 conf: 0.93 len: 2, id: 32,\n",
       " CAR {petalwidth=-inf_to_0.8,sepalwidth=2.95_to_3.35} => {sepallength=-inf_to_5.55} sup: 0.13 conf: 1.00 len: 3, id: 31,\n",
       " CAR {petalwidth=-inf_to_0.8,sepalwidth=2.95_to_3.35} => {sepallength=-inf_to_5.55} sup: 0.13 conf: 1.00 len: 3, id: 31,\n",
       " CAR {petalwidth=-inf_to_0.8} => {sepallength=-inf_to_5.55} sup: 0.31 conf: 0.93 len: 2, id: 32,\n",
       " CAR {petalwidth=-inf_to_0.8} => {sepallength=-inf_to_5.55} sup: 0.31 conf: 0.93 len: 2, id: 32,\n",
       " CAR {petalwidth=-inf_to_0.8,sepalwidth=2.95_to_3.35} => {sepallength=-inf_to_5.55} sup: 0.13 conf: 1.00 len: 3, id: 31,\n",
       " CAR {petalwidth=-inf_to_0.8} => {sepallength=-inf_to_5.55} sup: 0.31 conf: 0.93 len: 2, id: 32,\n",
       " CAR {petalwidth=-inf_to_0.8} => {sepallength=-inf_to_5.55} sup: 0.31 conf: 0.93 len: 2, id: 32,\n",
       " CAR {petalwidth=-inf_to_0.8,sepalwidth=2.95_to_3.35} => {sepallength=-inf_to_5.55} sup: 0.13 conf: 1.00 len: 3, id: 31,\n",
       " CAR {petalwidth=-inf_to_0.8} => {sepallength=-inf_to_5.55} sup: 0.31 conf: 0.93 len: 2, id: 32,\n",
       " CAR {petalwidth=-inf_to_0.8,sepalwidth=2.95_to_3.35} => {sepallength=-inf_to_5.55} sup: 0.13 conf: 1.00 len: 3, id: 31,\n",
       " CAR {petalwidth=-inf_to_0.8} => {sepallength=-inf_to_5.55} sup: 0.31 conf: 0.93 len: 2, id: 32,\n",
       " CAR {petalwidth=-inf_to_0.8,sepalwidth=2.95_to_3.35} => {sepallength=-inf_to_5.55} sup: 0.13 conf: 1.00 len: 3, id: 31,\n",
       " CAR {sepalwidth=2.95_to_3.35} => {sepallength=6.25_to_inf} sup: 0.19 conf: 0.51 len: 2, id: 45,\n",
       " CAR {sepalwidth=2.95_to_3.35} => {sepallength=6.25_to_inf} sup: 0.19 conf: 0.51 len: 2, id: 45,\n",
       " CAR {} => {sepallength=-inf_to_5.55} sup: 0.39 conf: 0.39 len: 1, id: 47,\n",
       " CAR {} => {sepallength=-inf_to_5.55} sup: 0.39 conf: 0.39 len: 1, id: 48,\n",
       " CAR {} => {sepallength=-inf_to_5.55} sup: 0.39 conf: 0.39 len: 1, id: 49,\n",
       " CAR {sepalwidth=2.95_to_3.35} => {sepallength=6.25_to_inf} sup: 0.19 conf: 0.51 len: 2, id: 45,\n",
       " CAR {} => {sepallength=-inf_to_5.55} sup: 0.39 conf: 0.39 len: 1, id: 50,\n",
       " CAR {} => {sepallength=-inf_to_5.55} sup: 0.39 conf: 0.39 len: 1, id: 51,\n",
       " CAR {} => {sepallength=-inf_to_5.55} sup: 0.39 conf: 0.39 len: 1, id: 52,\n",
       " CAR {} => {sepallength=-inf_to_5.55} sup: 0.39 conf: 0.39 len: 1, id: 53,\n",
       " CAR {sepalwidth=2.95_to_3.35} => {sepallength=6.25_to_inf} sup: 0.19 conf: 0.51 len: 2, id: 45,\n",
       " CAR {} => {sepallength=-inf_to_5.55} sup: 0.39 conf: 0.39 len: 1, id: 54,\n",
       " CAR {} => {sepallength=-inf_to_5.55} sup: 0.39 conf: 0.39 len: 1, id: 55,\n",
       " CAR {sepalwidth=2.95_to_3.35} => {sepallength=6.25_to_inf} sup: 0.19 conf: 0.51 len: 2, id: 45,\n",
       " CAR {} => {sepallength=-inf_to_5.55} sup: 0.39 conf: 0.39 len: 1, id: 56,\n",
       " CAR {} => {sepallength=-inf_to_5.55} sup: 0.39 conf: 0.39 len: 1, id: 57,\n",
       " CAR {} => {sepallength=-inf_to_5.55} sup: 0.39 conf: 0.39 len: 1, id: 58,\n",
       " CAR {sepalwidth=2.95_to_3.35,petallength=4.75_to_inf} => {sepallength=6.25_to_inf} sup: 0.15 conf: 0.87 len: 3, id: 43,\n",
       " CAR {} => {sepallength=-inf_to_5.55} sup: 0.39 conf: 0.39 len: 1, id: 59,\n",
       " CAR {petallength=4.75_to_inf} => {sepallength=6.25_to_inf} sup: 0.27 conf: 0.76 len: 2, id: 44,\n",
       " CAR {} => {sepallength=-inf_to_5.55} sup: 0.39 conf: 0.39 len: 1, id: 60,\n",
       " CAR {sepalwidth=2.95_to_3.35} => {sepallength=6.25_to_inf} sup: 0.19 conf: 0.51 len: 2, id: 45,\n",
       " CAR {petallength=4.75_to_inf} => {sepallength=6.25_to_inf} sup: 0.27 conf: 0.76 len: 2, id: 44,\n",
       " CAR {sepalwidth=2.95_to_3.35,petallength=4.75_to_inf} => {sepallength=6.25_to_inf} sup: 0.15 conf: 0.87 len: 3, id: 43,\n",
       " CAR {} => {sepallength=-inf_to_5.55} sup: 0.39 conf: 0.39 len: 1, id: 61,\n",
       " CAR {} => {sepallength=-inf_to_5.55} sup: 0.39 conf: 0.39 len: 1, id: 62,\n",
       " CAR {} => {sepallength=-inf_to_5.55} sup: 0.39 conf: 0.39 len: 1, id: 63,\n",
       " CAR {} => {sepallength=-inf_to_5.55} sup: 0.39 conf: 0.39 len: 1, id: 64,\n",
       " CAR {petallength=4.75_to_inf} => {sepallength=6.25_to_inf} sup: 0.27 conf: 0.76 len: 2, id: 44,\n",
       " CAR {sepalwidth=2.95_to_3.35} => {sepallength=6.25_to_inf} sup: 0.19 conf: 0.51 len: 2, id: 45,\n",
       " CAR {} => {sepallength=-inf_to_5.55} sup: 0.39 conf: 0.39 len: 1, id: 65,\n",
       " CAR {sepalwidth=2.95_to_3.35} => {sepallength=6.25_to_inf} sup: 0.19 conf: 0.51 len: 2, id: 45,\n",
       " CAR {} => {sepallength=-inf_to_5.55} sup: 0.39 conf: 0.39 len: 1, id: 66,\n",
       " CAR {sepalwidth=2.95_to_3.35} => {sepallength=6.25_to_inf} sup: 0.19 conf: 0.51 len: 2, id: 45,\n",
       " CAR {} => {sepallength=-inf_to_5.55} sup: 0.39 conf: 0.39 len: 1, id: 67,\n",
       " CAR {} => {sepallength=-inf_to_5.55} sup: 0.39 conf: 0.39 len: 1, id: 68,\n",
       " CAR {sepalwidth=2.95_to_3.35} => {sepallength=6.25_to_inf} sup: 0.19 conf: 0.51 len: 2, id: 45,\n",
       " CAR {} => {sepallength=-inf_to_5.55} sup: 0.39 conf: 0.39 len: 1, id: 69,\n",
       " CAR {} => {sepallength=-inf_to_5.55} sup: 0.39 conf: 0.39 len: 1, id: 70,\n",
       " CAR {} => {sepallength=-inf_to_5.55} sup: 0.39 conf: 0.39 len: 1, id: 71,\n",
       " CAR {sepalwidth=2.95_to_3.35} => {sepallength=6.25_to_inf} sup: 0.19 conf: 0.51 len: 2, id: 45,\n",
       " CAR {} => {sepallength=-inf_to_5.55} sup: 0.39 conf: 0.39 len: 1, id: 72,\n",
       " CAR {} => {sepallength=-inf_to_5.55} sup: 0.39 conf: 0.39 len: 1, id: 73,\n",
       " CAR {} => {sepallength=-inf_to_5.55} sup: 0.39 conf: 0.39 len: 1, id: 74,\n",
       " CAR {} => {sepallength=-inf_to_5.55} sup: 0.39 conf: 0.39 len: 1, id: 75,\n",
       " CAR {class=Iris-virginica,sepalwidth=2.95_to_3.35} => {sepallength=6.25_to_inf} sup: 0.14 conf: 0.90 len: 3, id: 41,\n",
       " CAR {class=Iris-virginica,petalwidth=1.75_to_inf} => {sepallength=6.25_to_inf} sup: 0.24 conf: 0.80 len: 3, id: 20,\n",
       " CAR {class=Iris-virginica,sepalwidth=2.95_to_3.35} => {sepallength=6.25_to_inf} sup: 0.14 conf: 0.90 len: 3, id: 41,\n",
       " CAR {class=Iris-virginica,petalwidth=1.75_to_inf} => {sepallength=6.25_to_inf} sup: 0.24 conf: 0.80 len: 3, id: 20,\n",
       " CAR {class=Iris-virginica,sepalwidth=2.95_to_3.35} => {sepallength=6.25_to_inf} sup: 0.14 conf: 0.90 len: 3, id: 41,\n",
       " CAR {class=Iris-virginica,sepalwidth=2.95_to_3.35} => {sepallength=6.25_to_inf} sup: 0.14 conf: 0.90 len: 3, id: 41,\n",
       " CAR {} => {sepallength=-inf_to_5.55} sup: 0.39 conf: 0.39 len: 1, id: 76,\n",
       " CAR {class=Iris-virginica,petalwidth=1.75_to_inf} => {sepallength=6.25_to_inf} sup: 0.24 conf: 0.80 len: 3, id: 20,\n",
       " CAR {class=Iris-virginica,petalwidth=1.75_to_inf} => {sepallength=6.25_to_inf} sup: 0.24 conf: 0.80 len: 3, id: 20,\n",
       " CAR {class=Iris-virginica,sepalwidth=2.95_to_3.35} => {sepallength=6.25_to_inf} sup: 0.14 conf: 0.90 len: 3, id: 41,\n",
       " CAR {class=Iris-virginica,petalwidth=1.75_to_inf} => {sepallength=6.25_to_inf} sup: 0.24 conf: 0.80 len: 3, id: 20,\n",
       " CAR {class=Iris-virginica,petalwidth=1.75_to_inf} => {sepallength=6.25_to_inf} sup: 0.24 conf: 0.80 len: 3, id: 20,\n",
       " CAR {class=Iris-virginica,petalwidth=1.75_to_inf} => {sepallength=6.25_to_inf} sup: 0.24 conf: 0.80 len: 3, id: 20,\n",
       " CAR {class=Iris-virginica,sepalwidth=2.95_to_3.35} => {sepallength=6.25_to_inf} sup: 0.14 conf: 0.90 len: 3, id: 41,\n",
       " CAR {class=Iris-virginica,sepalwidth=2.95_to_3.35} => {sepallength=6.25_to_inf} sup: 0.14 conf: 0.90 len: 3, id: 41,\n",
       " CAR {class=Iris-virginica,petalwidth=1.75_to_inf} => {sepallength=6.25_to_inf} sup: 0.24 conf: 0.80 len: 3, id: 20,\n",
       " CAR {class=Iris-virginica,petalwidth=1.75_to_inf} => {sepallength=6.25_to_inf} sup: 0.24 conf: 0.80 len: 3, id: 20,\n",
       " CAR {petallength=4.75_to_inf} => {sepallength=6.25_to_inf} sup: 0.27 conf: 0.76 len: 2, id: 44,\n",
       " CAR {class=Iris-virginica,sepalwidth=2.95_to_3.35} => {sepallength=6.25_to_inf} sup: 0.14 conf: 0.90 len: 3, id: 41,\n",
       " CAR {class=Iris-virginica,petalwidth=1.75_to_inf} => {sepallength=6.25_to_inf} sup: 0.24 conf: 0.80 len: 3, id: 20,\n",
       " CAR {class=Iris-virginica,petalwidth=1.75_to_inf} => {sepallength=6.25_to_inf} sup: 0.24 conf: 0.80 len: 3, id: 20,\n",
       " CAR {class=Iris-virginica,petalwidth=1.75_to_inf} => {sepallength=6.25_to_inf} sup: 0.24 conf: 0.80 len: 3, id: 20,\n",
       " CAR {class=Iris-virginica,sepalwidth=2.95_to_3.35} => {sepallength=6.25_to_inf} sup: 0.14 conf: 0.90 len: 3, id: 41,\n",
       " CAR {class=Iris-virginica,petalwidth=1.75_to_inf} => {sepallength=6.25_to_inf} sup: 0.24 conf: 0.80 len: 3, id: 20,\n",
       " CAR {class=Iris-virginica,petalwidth=1.75_to_inf} => {sepallength=6.25_to_inf} sup: 0.24 conf: 0.80 len: 3, id: 20,\n",
       " CAR {class=Iris-virginica,sepalwidth=2.95_to_3.35} => {sepallength=6.25_to_inf} sup: 0.14 conf: 0.90 len: 3, id: 41,\n",
       " CAR {class=Iris-virginica,petalwidth=1.75_to_inf} => {sepallength=6.25_to_inf} sup: 0.24 conf: 0.80 len: 3, id: 20,\n",
       " CAR {class=Iris-virginica,petalwidth=1.75_to_inf} => {sepallength=6.25_to_inf} sup: 0.24 conf: 0.80 len: 3, id: 20,\n",
       " CAR {class=Iris-virginica,petalwidth=1.75_to_inf} => {sepallength=6.25_to_inf} sup: 0.24 conf: 0.80 len: 3, id: 20,\n",
       " CAR {petallength=4.75_to_inf} => {sepallength=6.25_to_inf} sup: 0.27 conf: 0.76 len: 2, id: 44,\n",
       " CAR {petallength=4.75_to_inf} => {sepallength=6.25_to_inf} sup: 0.27 conf: 0.76 len: 2, id: 44,\n",
       " CAR {class=Iris-virginica,sepalwidth=2.95_to_3.35} => {sepallength=6.25_to_inf} sup: 0.14 conf: 0.90 len: 3, id: 41,\n",
       " CAR {class=Iris-virginica,petalwidth=1.75_to_inf} => {sepallength=6.25_to_inf} sup: 0.24 conf: 0.80 len: 3, id: 20,\n",
       " CAR {class=Iris-virginica,sepalwidth=2.95_to_3.35} => {sepallength=6.25_to_inf} sup: 0.14 conf: 0.90 len: 3, id: 41,\n",
       " CAR {class=Iris-virginica,sepalwidth=2.95_to_3.35} => {sepallength=6.25_to_inf} sup: 0.14 conf: 0.90 len: 3, id: 41,\n",
       " CAR {class=Iris-virginica,sepalwidth=2.95_to_3.35} => {sepallength=6.25_to_inf} sup: 0.14 conf: 0.90 len: 3, id: 41,\n",
       " CAR {class=Iris-virginica,sepalwidth=2.95_to_3.35} => {sepallength=6.25_to_inf} sup: 0.14 conf: 0.90 len: 3, id: 41,\n",
       " CAR {class=Iris-virginica,sepalwidth=2.95_to_3.35} => {sepallength=6.25_to_inf} sup: 0.14 conf: 0.90 len: 3, id: 41,\n",
       " CAR {class=Iris-virginica,petalwidth=1.75_to_inf} => {sepallength=6.25_to_inf} sup: 0.24 conf: 0.80 len: 3, id: 20,\n",
       " CAR {class=Iris-virginica,sepalwidth=2.95_to_3.35} => {sepallength=6.25_to_inf} sup: 0.14 conf: 0.90 len: 3, id: 41,\n",
       " CAR {class=Iris-virginica,sepalwidth=2.95_to_3.35} => {sepallength=6.25_to_inf} sup: 0.14 conf: 0.90 len: 3, id: 41,\n",
       " CAR {class=Iris-virginica,sepalwidth=2.95_to_3.35} => {sepallength=6.25_to_inf} sup: 0.14 conf: 0.90 len: 3, id: 41,\n",
       " CAR {class=Iris-virginica,petalwidth=1.75_to_inf} => {sepallength=6.25_to_inf} sup: 0.24 conf: 0.80 len: 3, id: 20,\n",
       " CAR {class=Iris-virginica,sepalwidth=2.95_to_3.35} => {sepallength=6.25_to_inf} sup: 0.14 conf: 0.90 len: 3, id: 41,\n",
       " CAR {class=Iris-virginica,sepalwidth=2.95_to_3.35} => {sepallength=6.25_to_inf} sup: 0.14 conf: 0.90 len: 3, id: 41]"
      ]
     },
     "execution_count": 8,
     "metadata": {},
     "output_type": "execute_result"
    }
   ],
   "source": [
    "cba.predict_matched_rules(txns)"
   ]
  }
 ],
 "metadata": {
  "kernelspec": {
   "display_name": "Python 3",
   "language": "python",
   "name": "python3"
  },
  "language_info": {
   "codemirror_mode": {
    "name": "ipython",
    "version": 3
   },
   "file_extension": ".py",
   "mimetype": "text/x-python",
   "name": "python",
   "nbconvert_exporter": "python",
   "pygments_lexer": "ipython3",
   "version": "3.7.3"
  }
 },
 "nbformat": 4,
 "nbformat_minor": 2
}
