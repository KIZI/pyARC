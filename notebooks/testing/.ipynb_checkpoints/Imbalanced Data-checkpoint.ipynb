{
 "cells": [
  {
   "cell_type": "code",
   "execution_count": 75,
   "metadata": {},
   "outputs": [],
   "source": [
    "import pandas as pd\n",
    "from pyarc import CBA, TransactionDB\n",
    "from pyarc.algorithms import top_rules, createCARs, M1Algorithm\n",
    "\n",
    "from sklearn.metrics import roc_auc_score\n",
    "\n",
    "import matplotlib.pyplot as plt\n",
    "\n",
    "%matplotlib inline"
   ]
  },
  {
   "cell_type": "code",
   "execution_count": 19,
   "metadata": {},
   "outputs": [
    {
     "data": {
      "text/plain": [
       "1    1179\n",
       "0     582\n",
       "Name: Died, dtype: int64"
      ]
     },
     "execution_count": 19,
     "metadata": {},
     "output_type": "execute_result"
    }
   ],
   "source": [
    "balanced_data = pd.read_csv(\"../../titanic.csv\")\n",
    "\n",
    "balanced_data[\"Died\"].value_counts()"
   ]
  },
  {
   "cell_type": "code",
   "execution_count": 49,
   "metadata": {},
   "outputs": [],
   "source": [
    "def make_imbalanced_data(balanced_data, class_name, class_value, prop=9):\n",
    "    one_class_only = balanced_data[balanced_data[class_name] == class_value]\n",
    "\n",
    "    one_class_only_oversampled = one_class_only.sample(frac=prop, replace=True).reset_index(drop=True)\n",
    "    \n",
    "    return pd.concat([balanced_data, one_class_only_oversampled])"
   ]
  },
  {
   "cell_type": "code",
   "execution_count": 67,
   "metadata": {},
   "outputs": [
    {
     "data": {
      "text/plain": [
       "1    0.952958\n",
       "0    0.047042\n",
       "Name: Died, dtype: float64"
      ]
     },
     "execution_count": 67,
     "metadata": {},
     "output_type": "execute_result"
    }
   ],
   "source": [
    "titanic_imbalanced = make_imbalanced_data(balanced_data, \"Died\", 1)\n",
    "\n",
    "titanic_imbalanced[\"Died\"].value_counts(normalize=True)"
   ]
  },
  {
   "cell_type": "code",
   "execution_count": 68,
   "metadata": {},
   "outputs": [
    {
     "data": {
      "text/plain": [
       "<pyarc.cba.CBA at 0x16ac142f6d8>"
      ]
     },
     "execution_count": 68,
     "metadata": {},
     "output_type": "execute_result"
    }
   ],
   "source": [
    "txns = TransactionDB.from_DataFrame(titanic_imbalanced)\n",
    "\n",
    "cba = CBA(support=0.01, confidence=0.6)\n",
    "cba.fit(txns)"
   ]
  },
  {
   "cell_type": "code",
   "execution_count": 69,
   "metadata": {},
   "outputs": [
    {
     "data": {
      "text/plain": [
       "[CAR {Passenger_Cat=2nd_class,Gender=male,Age_Cat=adult} => {Died=1} sup: 0.10 conf: 0.99 len: 4, id: 98,\n",
       " CAR {Passenger_Cat=3rd_class,Gender=male,Age_Cat=adult} => {Died=1} sup: 0.25 conf: 0.98 len: 4, id: 102,\n",
       " CAR {Passenger_Cat=3rd_class,Gender=male} => {Died=1} sup: 0.27 conf: 0.98 len: 3, id: 103,\n",
       " CAR {Gender=male,Age_Cat=adult} => {Died=1} sup: 0.84 conf: 0.97 len: 3, id: 110,\n",
       " CAR {Passenger_Cat=3rd_class,Age_Cat=adult} => {Died=1} sup: 0.31 conf: 0.97 len: 3, id: 104,\n",
       " CAR {Passenger_Cat=crew} => {Died=1} sup: 0.42 conf: 0.97 len: 2, id: 109,\n",
       " CAR {Passenger_Cat=3rd_class} => {Died=1} sup: 0.35 conf: 0.97 len: 2, id: 105]"
      ]
     },
     "execution_count": 69,
     "metadata": {},
     "output_type": "execute_result"
    }
   ],
   "source": [
    "cba.clf.rules"
   ]
  },
  {
   "cell_type": "code",
   "execution_count": 70,
   "metadata": {},
   "outputs": [
    {
     "data": {
      "text/plain": [
       "0.9595861623019722"
      ]
     },
     "execution_count": 70,
     "metadata": {},
     "output_type": "execute_result"
    }
   ],
   "source": [
    "cba.rule_model_accuracy(txns)"
   ]
  },
  {
   "cell_type": "code",
   "execution_count": 80,
   "metadata": {},
   "outputs": [
    {
     "name": "stdout",
     "output_type": "stream",
     "text": [
      "Running apriori with setting: confidence=0.5, support=0.0, minlen=2, maxlen=3, MAX_RULE_LEN=4\n",
      "Rule count: 217, Iteration: 1\n",
      "Increasing maxlen 4\n",
      "Running apriori with setting: confidence=0.5, support=0.0, minlen=2, maxlen=4, MAX_RULE_LEN=4\n",
      "Rule count: 312, Iteration: 2\n",
      "Decreasing confidence to 0.45\n",
      "Running apriori with setting: confidence=0.45, support=0.0, minlen=2, maxlen=4, MAX_RULE_LEN=4\n",
      "Rule count: 314, Iteration: 3\n",
      "Decreasing confidence to 0.4\n",
      "Running apriori with setting: confidence=0.4, support=0.0, minlen=2, maxlen=4, MAX_RULE_LEN=4\n",
      "Rule count: 314, Iteration: 4\n",
      "Decreasing confidence to 0.35000000000000003\n",
      "Running apriori with setting: confidence=0.35000000000000003, support=0.0, minlen=2, maxlen=4, MAX_RULE_LEN=4\n",
      "Rule count: 315, Iteration: 5\n",
      "Decreasing confidence to 0.30000000000000004\n",
      "Running apriori with setting: confidence=0.30000000000000004, support=0.0, minlen=2, maxlen=4, MAX_RULE_LEN=4\n",
      "Rule count: 316, Iteration: 6\n",
      "Decreasing confidence to 0.25000000000000006\n",
      "Running apriori with setting: confidence=0.25000000000000006, support=0.0, minlen=2, maxlen=4, MAX_RULE_LEN=4\n",
      "Rule count: 316, Iteration: 7\n",
      "Decreasing confidence to 0.20000000000000007\n",
      "Running apriori with setting: confidence=0.20000000000000007, support=0.0, minlen=2, maxlen=4, MAX_RULE_LEN=4\n",
      "Rule count: 316, Iteration: 8\n",
      "Decreasing confidence to 0.15000000000000008\n",
      "Running apriori with setting: confidence=0.15000000000000008, support=0.0, minlen=2, maxlen=4, MAX_RULE_LEN=4\n",
      "Rule count: 316, Iteration: 9\n",
      "Decreasing confidence to 0.10000000000000007\n",
      "Running apriori with setting: confidence=0.10000000000000007, support=0.0, minlen=2, maxlen=4, MAX_RULE_LEN=4\n",
      "Rule count: 316, Iteration: 10\n",
      "Decreasing confidence to 0.05000000000000007\n",
      "Running apriori with setting: confidence=0.05000000000000007, support=0.0, minlen=2, maxlen=4, MAX_RULE_LEN=4\n",
      "Rule count: 316, Iteration: 11\n",
      "Decreasing confidence to 6.938893903907228e-17\n",
      "Running apriori with setting: confidence=6.938893903907228e-17, support=0.0, minlen=2, maxlen=4, MAX_RULE_LEN=4\n",
      "Rule count: 316, Iteration: 12\n",
      "All options exhausted\n"
     ]
    },
    {
     "data": {
      "text/plain": [
       "<pyarc.algorithms.classifier.Classifier at 0x16abd9ea748>"
      ]
     },
     "execution_count": 80,
     "metadata": {},
     "output_type": "execute_result"
    }
   ],
   "source": [
    "cars = createCARs(top_rules(txns.string_representation))\n",
    "clf = M1Algorithm(cars, txns).build()\n",
    "\n",
    "clf"
   ]
  },
  {
   "cell_type": "code",
   "execution_count": 83,
   "metadata": {},
   "outputs": [
    {
     "data": {
      "text/plain": [
       "0.954898157129001"
      ]
     },
     "execution_count": 83,
     "metadata": {},
     "output_type": "execute_result"
    }
   ],
   "source": [
    "clf.test_transactions(txns)"
   ]
  }
 ],
 "metadata": {
  "kernelspec": {
   "display_name": "Python 3",
   "language": "python",
   "name": "python3"
  },
  "language_info": {
   "codemirror_mode": {
    "name": "ipython",
    "version": 3
   },
   "file_extension": ".py",
   "mimetype": "text/x-python",
   "name": "python",
   "nbconvert_exporter": "python",
   "pygments_lexer": "ipython3",
   "version": "3.7.3"
  }
 },
 "nbformat": 4,
 "nbformat_minor": 2
}
